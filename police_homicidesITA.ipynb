{
 "cells": [
  {
   "cell_type": "code",
   "execution_count": 1,
   "id": "f84c4ecb",
   "metadata": {},
   "outputs": [],
   "source": [
    "import pandas as pd\n",
    "import numpy as np\n",
    "import matplotlib.pyplot as plt\n",
    "import seaborn as sns"
   ]
  },
  {
   "cell_type": "code",
   "execution_count": 2,
   "id": "889c6382",
   "metadata": {},
   "outputs": [],
   "source": [
    "df = pd.read_csv('fatal-police-shootings-data.csv')"
   ]
  },
  {
   "cell_type": "code",
   "execution_count": 3,
   "id": "abf7ffbc",
   "metadata": {},
   "outputs": [],
   "source": [
    "df_population = pd.read_html('https://it.wikipedia.org/wiki/Stati_federati_degli_Stati_Uniti_d%27America_per_popolazione')[0]"
   ]
  },
  {
   "cell_type": "code",
   "execution_count": 4,
   "id": "ce4e9933",
   "metadata": {},
   "outputs": [],
   "source": [
    "df_population = df_population.drop(columns=['Seggi nella Camera', 'Grandi elettori', 'Pop. per grandi elettori', 'Pop. per seggio nella Camera'], axis=1)"
   ]
  },
  {
   "cell_type": "code",
   "execution_count": 5,
   "id": "bb0f9915",
   "metadata": {},
   "outputs": [
    {
     "data": {
      "text/html": [
       "<div>\n",
       "<style scoped>\n",
       "    .dataframe tbody tr th:only-of-type {\n",
       "        vertical-align: middle;\n",
       "    }\n",
       "\n",
       "    .dataframe tbody tr th {\n",
       "        vertical-align: top;\n",
       "    }\n",
       "\n",
       "    .dataframe thead th {\n",
       "        text-align: right;\n",
       "    }\n",
       "</style>\n",
       "<table border=\"1\" class=\"dataframe\">\n",
       "  <thead>\n",
       "    <tr style=\"text-align: right;\">\n",
       "      <th></th>\n",
       "      <th>Posizione</th>\n",
       "      <th>Stato</th>\n",
       "      <th>Popolazione (1-4-2020)</th>\n",
       "      <th>% sulla popolazione totale</th>\n",
       "    </tr>\n",
       "  </thead>\n",
       "  <tbody>\n",
       "    <tr>\n",
       "      <th>0</th>\n",
       "      <td>1</td>\n",
       "      <td>California</td>\n",
       "      <td>39 538 223</td>\n",
       "      <td>11,80%</td>\n",
       "    </tr>\n",
       "    <tr>\n",
       "      <th>1</th>\n",
       "      <td>2</td>\n",
       "      <td>Texas</td>\n",
       "      <td>29 145 505</td>\n",
       "      <td>8,70%</td>\n",
       "    </tr>\n",
       "    <tr>\n",
       "      <th>2</th>\n",
       "      <td>3</td>\n",
       "      <td>Florida</td>\n",
       "      <td>21 538 187</td>\n",
       "      <td>6,43%</td>\n",
       "    </tr>\n",
       "    <tr>\n",
       "      <th>3</th>\n",
       "      <td>4</td>\n",
       "      <td>New York</td>\n",
       "      <td>20 201 249</td>\n",
       "      <td>6,03%</td>\n",
       "    </tr>\n",
       "    <tr>\n",
       "      <th>4</th>\n",
       "      <td>5</td>\n",
       "      <td>Pennsylvania</td>\n",
       "      <td>13 002 700</td>\n",
       "      <td>3,88%</td>\n",
       "    </tr>\n",
       "    <tr>\n",
       "      <th>5</th>\n",
       "      <td>6</td>\n",
       "      <td>Illinois</td>\n",
       "      <td>12 812 508</td>\n",
       "      <td>3,82%</td>\n",
       "    </tr>\n",
       "    <tr>\n",
       "      <th>6</th>\n",
       "      <td>7</td>\n",
       "      <td>Ohio</td>\n",
       "      <td>11 799 448</td>\n",
       "      <td>3,52%</td>\n",
       "    </tr>\n",
       "    <tr>\n",
       "      <th>7</th>\n",
       "      <td>8</td>\n",
       "      <td>Georgia</td>\n",
       "      <td>10 711 908</td>\n",
       "      <td>3,20%</td>\n",
       "    </tr>\n",
       "    <tr>\n",
       "      <th>8</th>\n",
       "      <td>9</td>\n",
       "      <td>Carolina del Nord</td>\n",
       "      <td>10 439 388</td>\n",
       "      <td>3,12%</td>\n",
       "    </tr>\n",
       "    <tr>\n",
       "      <th>9</th>\n",
       "      <td>10</td>\n",
       "      <td>Michigan</td>\n",
       "      <td>10 077 331</td>\n",
       "      <td>3,01%</td>\n",
       "    </tr>\n",
       "  </tbody>\n",
       "</table>\n",
       "</div>"
      ],
      "text/plain": [
       "   Posizione              Stato Popolazione (1-4-2020)  \\\n",
       "0          1         California             39 538 223   \n",
       "1          2              Texas             29 145 505   \n",
       "2          3            Florida             21 538 187   \n",
       "3          4           New York             20 201 249   \n",
       "4          5       Pennsylvania             13 002 700   \n",
       "5          6           Illinois             12 812 508   \n",
       "6          7               Ohio             11 799 448   \n",
       "7          8            Georgia             10 711 908   \n",
       "8          9  Carolina del Nord             10 439 388   \n",
       "9         10           Michigan             10 077 331   \n",
       "\n",
       "  % sulla popolazione totale  \n",
       "0                     11,80%  \n",
       "1                      8,70%  \n",
       "2                      6,43%  \n",
       "3                      6,03%  \n",
       "4                      3,88%  \n",
       "5                      3,82%  \n",
       "6                      3,52%  \n",
       "7                      3,20%  \n",
       "8                      3,12%  \n",
       "9                      3,01%  "
      ]
     },
     "execution_count": 5,
     "metadata": {},
     "output_type": "execute_result"
    }
   ],
   "source": [
    "df_population.head(10)"
   ]
  },
  {
   "cell_type": "code",
   "execution_count": 6,
   "id": "aefa72ca",
   "metadata": {},
   "outputs": [
    {
     "data": {
      "text/html": [
       "<div>\n",
       "<style scoped>\n",
       "    .dataframe tbody tr th:only-of-type {\n",
       "        vertical-align: middle;\n",
       "    }\n",
       "\n",
       "    .dataframe tbody tr th {\n",
       "        vertical-align: top;\n",
       "    }\n",
       "\n",
       "    .dataframe thead th {\n",
       "        text-align: right;\n",
       "    }\n",
       "</style>\n",
       "<table border=\"1\" class=\"dataframe\">\n",
       "  <thead>\n",
       "    <tr style=\"text-align: right;\">\n",
       "      <th></th>\n",
       "      <th>id</th>\n",
       "      <th>name</th>\n",
       "      <th>date</th>\n",
       "      <th>manner_of_death</th>\n",
       "      <th>armed</th>\n",
       "      <th>age</th>\n",
       "      <th>gender</th>\n",
       "      <th>race</th>\n",
       "      <th>city</th>\n",
       "      <th>state</th>\n",
       "      <th>signs_of_mental_illness</th>\n",
       "      <th>threat_level</th>\n",
       "      <th>flee</th>\n",
       "      <th>body_camera</th>\n",
       "      <th>longitude</th>\n",
       "      <th>latitude</th>\n",
       "      <th>is_geocoding_exact</th>\n",
       "    </tr>\n",
       "  </thead>\n",
       "  <tbody>\n",
       "    <tr>\n",
       "      <th>0</th>\n",
       "      <td>3</td>\n",
       "      <td>Tim Elliot</td>\n",
       "      <td>2015-01-02</td>\n",
       "      <td>shot</td>\n",
       "      <td>gun</td>\n",
       "      <td>53.0</td>\n",
       "      <td>M</td>\n",
       "      <td>A</td>\n",
       "      <td>Shelton</td>\n",
       "      <td>WA</td>\n",
       "      <td>True</td>\n",
       "      <td>attack</td>\n",
       "      <td>Not fleeing</td>\n",
       "      <td>False</td>\n",
       "      <td>-123.122</td>\n",
       "      <td>47.247</td>\n",
       "      <td>True</td>\n",
       "    </tr>\n",
       "    <tr>\n",
       "      <th>1</th>\n",
       "      <td>4</td>\n",
       "      <td>Lewis Lee Lembke</td>\n",
       "      <td>2015-01-02</td>\n",
       "      <td>shot</td>\n",
       "      <td>gun</td>\n",
       "      <td>47.0</td>\n",
       "      <td>M</td>\n",
       "      <td>W</td>\n",
       "      <td>Aloha</td>\n",
       "      <td>OR</td>\n",
       "      <td>False</td>\n",
       "      <td>attack</td>\n",
       "      <td>Not fleeing</td>\n",
       "      <td>False</td>\n",
       "      <td>-122.892</td>\n",
       "      <td>45.487</td>\n",
       "      <td>True</td>\n",
       "    </tr>\n",
       "    <tr>\n",
       "      <th>2</th>\n",
       "      <td>5</td>\n",
       "      <td>John Paul Quintero</td>\n",
       "      <td>2015-01-03</td>\n",
       "      <td>shot and Tasered</td>\n",
       "      <td>unarmed</td>\n",
       "      <td>23.0</td>\n",
       "      <td>M</td>\n",
       "      <td>H</td>\n",
       "      <td>Wichita</td>\n",
       "      <td>KS</td>\n",
       "      <td>False</td>\n",
       "      <td>other</td>\n",
       "      <td>Not fleeing</td>\n",
       "      <td>False</td>\n",
       "      <td>-97.281</td>\n",
       "      <td>37.695</td>\n",
       "      <td>True</td>\n",
       "    </tr>\n",
       "    <tr>\n",
       "      <th>3</th>\n",
       "      <td>8</td>\n",
       "      <td>Matthew Hoffman</td>\n",
       "      <td>2015-01-04</td>\n",
       "      <td>shot</td>\n",
       "      <td>toy weapon</td>\n",
       "      <td>32.0</td>\n",
       "      <td>M</td>\n",
       "      <td>W</td>\n",
       "      <td>San Francisco</td>\n",
       "      <td>CA</td>\n",
       "      <td>True</td>\n",
       "      <td>attack</td>\n",
       "      <td>Not fleeing</td>\n",
       "      <td>False</td>\n",
       "      <td>-122.422</td>\n",
       "      <td>37.763</td>\n",
       "      <td>True</td>\n",
       "    </tr>\n",
       "    <tr>\n",
       "      <th>4</th>\n",
       "      <td>9</td>\n",
       "      <td>Michael Rodriguez</td>\n",
       "      <td>2015-01-04</td>\n",
       "      <td>shot</td>\n",
       "      <td>nail gun</td>\n",
       "      <td>39.0</td>\n",
       "      <td>M</td>\n",
       "      <td>H</td>\n",
       "      <td>Evans</td>\n",
       "      <td>CO</td>\n",
       "      <td>False</td>\n",
       "      <td>attack</td>\n",
       "      <td>Not fleeing</td>\n",
       "      <td>False</td>\n",
       "      <td>-104.692</td>\n",
       "      <td>40.384</td>\n",
       "      <td>True</td>\n",
       "    </tr>\n",
       "    <tr>\n",
       "      <th>...</th>\n",
       "      <td>...</td>\n",
       "      <td>...</td>\n",
       "      <td>...</td>\n",
       "      <td>...</td>\n",
       "      <td>...</td>\n",
       "      <td>...</td>\n",
       "      <td>...</td>\n",
       "      <td>...</td>\n",
       "      <td>...</td>\n",
       "      <td>...</td>\n",
       "      <td>...</td>\n",
       "      <td>...</td>\n",
       "      <td>...</td>\n",
       "      <td>...</td>\n",
       "      <td>...</td>\n",
       "      <td>...</td>\n",
       "      <td>...</td>\n",
       "    </tr>\n",
       "    <tr>\n",
       "      <th>7699</th>\n",
       "      <td>8371</td>\n",
       "      <td>Andrew Ainsworth</td>\n",
       "      <td>2022-08-29</td>\n",
       "      <td>shot</td>\n",
       "      <td>gun</td>\n",
       "      <td>60.0</td>\n",
       "      <td>M</td>\n",
       "      <td>NaN</td>\n",
       "      <td>Albemarle County</td>\n",
       "      <td>VA</td>\n",
       "      <td>False</td>\n",
       "      <td>attack</td>\n",
       "      <td>Not fleeing</td>\n",
       "      <td>False</td>\n",
       "      <td>-78.525</td>\n",
       "      <td>38.026</td>\n",
       "      <td>True</td>\n",
       "    </tr>\n",
       "    <tr>\n",
       "      <th>7700</th>\n",
       "      <td>8368</td>\n",
       "      <td>William Isaac Rich</td>\n",
       "      <td>2022-08-30</td>\n",
       "      <td>shot</td>\n",
       "      <td>unknown weapon</td>\n",
       "      <td>22.0</td>\n",
       "      <td>M</td>\n",
       "      <td>NaN</td>\n",
       "      <td>Cedar Rapids</td>\n",
       "      <td>IA</td>\n",
       "      <td>False</td>\n",
       "      <td>other</td>\n",
       "      <td>Not fleeing</td>\n",
       "      <td>False</td>\n",
       "      <td>-91.678</td>\n",
       "      <td>41.924</td>\n",
       "      <td>True</td>\n",
       "    </tr>\n",
       "    <tr>\n",
       "      <th>7701</th>\n",
       "      <td>8369</td>\n",
       "      <td>Donovan Lewis</td>\n",
       "      <td>2022-08-30</td>\n",
       "      <td>shot</td>\n",
       "      <td>unarmed</td>\n",
       "      <td>20.0</td>\n",
       "      <td>M</td>\n",
       "      <td>B</td>\n",
       "      <td>Columbus</td>\n",
       "      <td>OH</td>\n",
       "      <td>False</td>\n",
       "      <td>undetermined</td>\n",
       "      <td>Not fleeing</td>\n",
       "      <td>True</td>\n",
       "      <td>-83.087</td>\n",
       "      <td>39.943</td>\n",
       "      <td>True</td>\n",
       "    </tr>\n",
       "    <tr>\n",
       "      <th>7702</th>\n",
       "      <td>8376</td>\n",
       "      <td>Jacob M. Jamrozy</td>\n",
       "      <td>2022-08-31</td>\n",
       "      <td>shot</td>\n",
       "      <td>gun</td>\n",
       "      <td>39.0</td>\n",
       "      <td>M</td>\n",
       "      <td>NaN</td>\n",
       "      <td>Omaha</td>\n",
       "      <td>NE</td>\n",
       "      <td>False</td>\n",
       "      <td>other</td>\n",
       "      <td>Not fleeing</td>\n",
       "      <td>True</td>\n",
       "      <td>-96.070</td>\n",
       "      <td>41.203</td>\n",
       "      <td>True</td>\n",
       "    </tr>\n",
       "    <tr>\n",
       "      <th>7703</th>\n",
       "      <td>8377</td>\n",
       "      <td>Augustine Flores</td>\n",
       "      <td>2022-08-31</td>\n",
       "      <td>shot</td>\n",
       "      <td>machete</td>\n",
       "      <td>40.0</td>\n",
       "      <td>M</td>\n",
       "      <td>NaN</td>\n",
       "      <td>Los Angeles</td>\n",
       "      <td>CA</td>\n",
       "      <td>False</td>\n",
       "      <td>attack</td>\n",
       "      <td>NaN</td>\n",
       "      <td>False</td>\n",
       "      <td>-118.243</td>\n",
       "      <td>33.953</td>\n",
       "      <td>True</td>\n",
       "    </tr>\n",
       "  </tbody>\n",
       "</table>\n",
       "<p>7704 rows × 17 columns</p>\n",
       "</div>"
      ],
      "text/plain": [
       "        id                name        date   manner_of_death           armed  \\\n",
       "0        3          Tim Elliot  2015-01-02              shot             gun   \n",
       "1        4    Lewis Lee Lembke  2015-01-02              shot             gun   \n",
       "2        5  John Paul Quintero  2015-01-03  shot and Tasered         unarmed   \n",
       "3        8     Matthew Hoffman  2015-01-04              shot      toy weapon   \n",
       "4        9   Michael Rodriguez  2015-01-04              shot        nail gun   \n",
       "...    ...                 ...         ...               ...             ...   \n",
       "7699  8371    Andrew Ainsworth  2022-08-29              shot             gun   \n",
       "7700  8368  William Isaac Rich  2022-08-30              shot  unknown weapon   \n",
       "7701  8369       Donovan Lewis  2022-08-30              shot         unarmed   \n",
       "7702  8376    Jacob M. Jamrozy  2022-08-31              shot             gun   \n",
       "7703  8377    Augustine Flores  2022-08-31              shot         machete   \n",
       "\n",
       "       age gender race              city state  signs_of_mental_illness  \\\n",
       "0     53.0      M    A           Shelton    WA                     True   \n",
       "1     47.0      M    W             Aloha    OR                    False   \n",
       "2     23.0      M    H           Wichita    KS                    False   \n",
       "3     32.0      M    W     San Francisco    CA                     True   \n",
       "4     39.0      M    H             Evans    CO                    False   \n",
       "...    ...    ...  ...               ...   ...                      ...   \n",
       "7699  60.0      M  NaN  Albemarle County    VA                    False   \n",
       "7700  22.0      M  NaN      Cedar Rapids    IA                    False   \n",
       "7701  20.0      M    B          Columbus    OH                    False   \n",
       "7702  39.0      M  NaN             Omaha    NE                    False   \n",
       "7703  40.0      M  NaN       Los Angeles    CA                    False   \n",
       "\n",
       "      threat_level         flee  body_camera  longitude  latitude  \\\n",
       "0           attack  Not fleeing        False   -123.122    47.247   \n",
       "1           attack  Not fleeing        False   -122.892    45.487   \n",
       "2            other  Not fleeing        False    -97.281    37.695   \n",
       "3           attack  Not fleeing        False   -122.422    37.763   \n",
       "4           attack  Not fleeing        False   -104.692    40.384   \n",
       "...            ...          ...          ...        ...       ...   \n",
       "7699        attack  Not fleeing        False    -78.525    38.026   \n",
       "7700         other  Not fleeing        False    -91.678    41.924   \n",
       "7701  undetermined  Not fleeing         True    -83.087    39.943   \n",
       "7702         other  Not fleeing         True    -96.070    41.203   \n",
       "7703        attack          NaN        False   -118.243    33.953   \n",
       "\n",
       "      is_geocoding_exact  \n",
       "0                   True  \n",
       "1                   True  \n",
       "2                   True  \n",
       "3                   True  \n",
       "4                   True  \n",
       "...                  ...  \n",
       "7699                True  \n",
       "7700                True  \n",
       "7701                True  \n",
       "7702                True  \n",
       "7703                True  \n",
       "\n",
       "[7704 rows x 17 columns]"
      ]
     },
     "execution_count": 6,
     "metadata": {},
     "output_type": "execute_result"
    }
   ],
   "source": [
    "df"
   ]
  },
  {
   "cell_type": "code",
   "execution_count": 7,
   "id": "1a805936",
   "metadata": {},
   "outputs": [
    {
     "data": {
      "text/plain": [
       "(7704, 17)"
      ]
     },
     "execution_count": 7,
     "metadata": {},
     "output_type": "execute_result"
    }
   ],
   "source": [
    "df.shape"
   ]
  },
  {
   "cell_type": "code",
   "execution_count": 8,
   "id": "a1b0aff8",
   "metadata": {},
   "outputs": [
    {
     "name": "stdout",
     "output_type": "stream",
     "text": [
      "<class 'pandas.core.frame.DataFrame'>\n",
      "RangeIndex: 7704 entries, 0 to 7703\n",
      "Data columns (total 17 columns):\n",
      " #   Column                   Non-Null Count  Dtype  \n",
      "---  ------                   --------------  -----  \n",
      " 0   id                       7704 non-null   int64  \n",
      " 1   name                     7295 non-null   object \n",
      " 2   date                     7704 non-null   object \n",
      " 3   manner_of_death          7704 non-null   object \n",
      " 4   armed                    7495 non-null   object \n",
      " 5   age                      7229 non-null   float64\n",
      " 6   gender                   7684 non-null   object \n",
      " 7   race                     6253 non-null   object \n",
      " 8   city                     7704 non-null   object \n",
      " 9   state                    7704 non-null   object \n",
      " 10  signs_of_mental_illness  7704 non-null   bool   \n",
      " 11  threat_level             7704 non-null   object \n",
      " 12  flee                     6833 non-null   object \n",
      " 13  body_camera              7704 non-null   bool   \n",
      " 14  longitude                6869 non-null   float64\n",
      " 15  latitude                 6869 non-null   float64\n",
      " 16  is_geocoding_exact       7704 non-null   bool   \n",
      "dtypes: bool(3), float64(3), int64(1), object(10)\n",
      "memory usage: 865.3+ KB\n"
     ]
    }
   ],
   "source": [
    "df.info()"
   ]
  },
  {
   "cell_type": "code",
   "execution_count": 9,
   "id": "0849b4e3",
   "metadata": {
    "scrolled": true
   },
   "outputs": [
    {
     "data": {
      "text/plain": [
       "id                            0\n",
       "name                        409\n",
       "date                          0\n",
       "manner_of_death               0\n",
       "armed                       209\n",
       "age                         475\n",
       "gender                       20\n",
       "race                       1451\n",
       "city                          0\n",
       "state                         0\n",
       "signs_of_mental_illness       0\n",
       "threat_level                  0\n",
       "flee                        871\n",
       "body_camera                   0\n",
       "longitude                   835\n",
       "latitude                    835\n",
       "is_geocoding_exact            0\n",
       "dtype: int64"
      ]
     },
     "execution_count": 9,
     "metadata": {},
     "output_type": "execute_result"
    }
   ],
   "source": [
    "df.isnull().sum()"
   ]
  },
  {
   "cell_type": "markdown",
   "id": "3977a6bb",
   "metadata": {},
   "source": [
    "### Ci sono tanti omicidi da parte della polizia negli USA. Cerchiamo, analizzando i dati, di capire cosa succede rispondendo alle \"5 W\" (when, where, who, why, what(how))"
   ]
  },
  {
   "cell_type": "markdown",
   "id": "0025bfa7",
   "metadata": {},
   "source": [
    "### Userò tutte le colonne tranne le ultime tre"
   ]
  },
  {
   "cell_type": "code",
   "execution_count": 10,
   "id": "0315d3cb",
   "metadata": {},
   "outputs": [],
   "source": [
    "df = df.drop(columns=['longitude', 'latitude', 'is_geocoding_exact'], axis=1)"
   ]
  },
  {
   "cell_type": "code",
   "execution_count": 11,
   "id": "77b5dc9c",
   "metadata": {},
   "outputs": [],
   "source": [
    "df['date'] =  pd.to_datetime(df['date'])"
   ]
  },
  {
   "cell_type": "code",
   "execution_count": 12,
   "id": "fd80ea45",
   "metadata": {},
   "outputs": [],
   "source": [
    "df['year'] = df['date'].dt.year"
   ]
  },
  {
   "cell_type": "code",
   "execution_count": 13,
   "id": "7acad0b0",
   "metadata": {},
   "outputs": [],
   "source": [
    "total_cases = 7704"
   ]
  },
  {
   "cell_type": "code",
   "execution_count": 14,
   "id": "1c90272c",
   "metadata": {},
   "outputs": [
    {
     "name": "stdout",
     "output_type": "stream",
     "text": [
      "<class 'pandas.core.frame.DataFrame'>\n",
      "RangeIndex: 7704 entries, 0 to 7703\n",
      "Data columns (total 15 columns):\n",
      " #   Column                   Non-Null Count  Dtype         \n",
      "---  ------                   --------------  -----         \n",
      " 0   id                       7704 non-null   int64         \n",
      " 1   name                     7295 non-null   object        \n",
      " 2   date                     7704 non-null   datetime64[ns]\n",
      " 3   manner_of_death          7704 non-null   object        \n",
      " 4   armed                    7495 non-null   object        \n",
      " 5   age                      7229 non-null   float64       \n",
      " 6   gender                   7684 non-null   object        \n",
      " 7   race                     6253 non-null   object        \n",
      " 8   city                     7704 non-null   object        \n",
      " 9   state                    7704 non-null   object        \n",
      " 10  signs_of_mental_illness  7704 non-null   bool          \n",
      " 11  threat_level             7704 non-null   object        \n",
      " 12  flee                     6833 non-null   object        \n",
      " 13  body_camera              7704 non-null   bool          \n",
      " 14  year                     7704 non-null   int64         \n",
      "dtypes: bool(2), datetime64[ns](1), float64(1), int64(2), object(9)\n",
      "memory usage: 797.6+ KB\n"
     ]
    }
   ],
   "source": [
    "df.info()"
   ]
  },
  {
   "cell_type": "code",
   "execution_count": 15,
   "id": "ba550469",
   "metadata": {},
   "outputs": [
    {
     "data": {
      "text/plain": [
       "array(['gun', 'unarmed', 'toy weapon', 'nail gun', 'knife', nan, 'shovel',\n",
       "       'vehicle', 'hammer', 'hatchet', 'sword', 'machete', 'box cutter',\n",
       "       'undetermined', 'metal object', 'screwdriver', 'lawn mower blade',\n",
       "       'flagpole', 'guns and explosives', 'cordless drill', 'crossbow',\n",
       "       'BB gun', 'metal pole', 'Taser', 'metal pipe', 'metal hand tool',\n",
       "       'blunt object', 'metal stick', 'sharp object', 'meat cleaver',\n",
       "       'carjack', 'chain', \"contractor's level\", 'railroad spikes',\n",
       "       'stapler', 'beer bottle', 'unknown weapon', 'binoculars',\n",
       "       'pellet gun', 'bean-bag gun', 'baseball bat and fireplace poker',\n",
       "       'straight edge razor', 'gun and knife', 'ax', 'brick',\n",
       "       'baseball bat', 'hand torch', 'chain saw', 'garden tool',\n",
       "       'pair of scissors', 'pole', 'pick-axe', 'flashlight', 'baton',\n",
       "       'spear', 'chair', 'pitchfork', 'hatchet and gun', 'rock',\n",
       "       'piece of wood', 'pipe', 'glass shard', 'motorcycle',\n",
       "       'pepper spray', 'metal rake', 'crowbar', 'oar', 'machete and gun',\n",
       "       'tire iron', 'air conditioner', 'pole and knife',\n",
       "       'baseball bat and bottle', 'fireworks', 'pen', 'chainsaw',\n",
       "       'gun and sword', 'gun and car', 'claimed to be armed',\n",
       "       'incendiary device', 'samurai sword', 'bow and arrow',\n",
       "       'gun and vehicle', 'vehicle and gun', 'wrench', 'walking stick',\n",
       "       'barstool', 'BB gun and vehicle', 'wasp spray', 'air pistol',\n",
       "       'Airsoft pistol', 'baseball bat and knife', 'vehicle and machete',\n",
       "       'ice pick', 'car, knife and mace', 'bottle', 'gun and machete',\n",
       "       'microphone', 'knife and vehicle', 'machete and hammer', 'stake',\n",
       "       'incendiary weapon', 'ax and machete', 'hammer and garden tool',\n",
       "       'flare gun', 'knife, hammer and gasoline can'], dtype=object)"
      ]
     },
     "execution_count": 15,
     "metadata": {},
     "output_type": "execute_result"
    }
   ],
   "source": [
    "df['armed'].unique()"
   ]
  },
  {
   "cell_type": "code",
   "execution_count": 16,
   "id": "de180a6a",
   "metadata": {},
   "outputs": [],
   "source": [
    "df['armed'] = df.armed.fillna('undetermined')\n",
    "# come si legge nel file readme, quando non si sa se la vittima fosse armata o meno,\n",
    "# usiamo undetermined"
   ]
  },
  {
   "cell_type": "code",
   "execution_count": 17,
   "id": "b9a65ff5",
   "metadata": {},
   "outputs": [
    {
     "data": {
      "text/plain": [
       "37"
      ]
     },
     "execution_count": 17,
     "metadata": {},
     "output_type": "execute_result"
    }
   ],
   "source": [
    "mean_age = df['age'].mean()\n",
    "mean_age = round(mean_age)\n",
    "mean_age"
   ]
  },
  {
   "cell_type": "code",
   "execution_count": 18,
   "id": "861fc2dc",
   "metadata": {},
   "outputs": [],
   "source": [
    "df['age'] = df.age.fillna(mean_age)"
   ]
  },
  {
   "cell_type": "code",
   "execution_count": 19,
   "id": "982d4eba",
   "metadata": {},
   "outputs": [
    {
     "data": {
      "text/plain": [
       "M    7336\n",
       "F     348\n",
       "Name: gender, dtype: int64"
      ]
     },
     "execution_count": 19,
     "metadata": {},
     "output_type": "execute_result"
    }
   ],
   "source": [
    "df.gender.value_counts()"
   ]
  },
  {
   "cell_type": "code",
   "execution_count": 20,
   "id": "c8e992af",
   "metadata": {},
   "outputs": [],
   "source": [
    "df['gender'] = df.gender.fillna('unknown')"
   ]
  },
  {
   "cell_type": "code",
   "execution_count": 21,
   "id": "94a45e35",
   "metadata": {},
   "outputs": [],
   "source": [
    "df['race'] = df.race.fillna('unknown')"
   ]
  },
  {
   "cell_type": "code",
   "execution_count": 22,
   "id": "b256f486",
   "metadata": {},
   "outputs": [
    {
     "data": {
      "text/plain": [
       "W          3189\n",
       "B          1681\n",
       "unknown    1451\n",
       "H          1127\n",
       "A           112\n",
       "N            97\n",
       "O            47\n",
       "Name: race, dtype: int64"
      ]
     },
     "execution_count": 22,
     "metadata": {},
     "output_type": "execute_result"
    }
   ],
   "source": [
    "df.race.value_counts()"
   ]
  },
  {
   "cell_type": "code",
   "execution_count": 23,
   "id": "9fd47887",
   "metadata": {},
   "outputs": [],
   "source": [
    "df['race'] = df.race.replace({'W': 'White', 'B': 'Black', 'A': 'Asian', \n",
    "                              'N': 'Native', 'H': 'Hispanic', 'O': 'Other'})"
   ]
  },
  {
   "cell_type": "code",
   "execution_count": 24,
   "id": "a081b9ca",
   "metadata": {},
   "outputs": [],
   "source": [
    "df['flee'] = df.flee.fillna('unknown')"
   ]
  },
  {
   "cell_type": "code",
   "execution_count": 25,
   "id": "323e0e7f",
   "metadata": {},
   "outputs": [
    {
     "data": {
      "text/plain": [
       "id                           0\n",
       "name                       409\n",
       "date                         0\n",
       "manner_of_death              0\n",
       "armed                        0\n",
       "age                          0\n",
       "gender                       0\n",
       "race                         0\n",
       "city                         0\n",
       "state                        0\n",
       "signs_of_mental_illness      0\n",
       "threat_level                 0\n",
       "flee                         0\n",
       "body_camera                  0\n",
       "year                         0\n",
       "dtype: int64"
      ]
     },
     "execution_count": 25,
     "metadata": {},
     "output_type": "execute_result"
    }
   ],
   "source": [
    "df.isnull().sum()"
   ]
  },
  {
   "cell_type": "code",
   "execution_count": 26,
   "id": "48f452d3",
   "metadata": {},
   "outputs": [
    {
     "data": {
      "text/html": [
       "<div>\n",
       "<style scoped>\n",
       "    .dataframe tbody tr th:only-of-type {\n",
       "        vertical-align: middle;\n",
       "    }\n",
       "\n",
       "    .dataframe tbody tr th {\n",
       "        vertical-align: top;\n",
       "    }\n",
       "\n",
       "    .dataframe thead th {\n",
       "        text-align: right;\n",
       "    }\n",
       "</style>\n",
       "<table border=\"1\" class=\"dataframe\">\n",
       "  <thead>\n",
       "    <tr style=\"text-align: right;\">\n",
       "      <th></th>\n",
       "      <th>id</th>\n",
       "      <th>age</th>\n",
       "      <th>signs_of_mental_illness</th>\n",
       "      <th>body_camera</th>\n",
       "      <th>year</th>\n",
       "    </tr>\n",
       "  </thead>\n",
       "  <tbody>\n",
       "    <tr>\n",
       "      <th>id</th>\n",
       "      <td>1.000000</td>\n",
       "      <td>0.022602</td>\n",
       "      <td>-0.114457</td>\n",
       "      <td>0.089557</td>\n",
       "      <td>0.988471</td>\n",
       "    </tr>\n",
       "    <tr>\n",
       "      <th>age</th>\n",
       "      <td>0.022602</td>\n",
       "      <td>1.000000</td>\n",
       "      <td>0.095124</td>\n",
       "      <td>-0.050337</td>\n",
       "      <td>0.021951</td>\n",
       "    </tr>\n",
       "    <tr>\n",
       "      <th>signs_of_mental_illness</th>\n",
       "      <td>-0.114457</td>\n",
       "      <td>0.095124</td>\n",
       "      <td>1.000000</td>\n",
       "      <td>0.046780</td>\n",
       "      <td>-0.110949</td>\n",
       "    </tr>\n",
       "    <tr>\n",
       "      <th>body_camera</th>\n",
       "      <td>0.089557</td>\n",
       "      <td>-0.050337</td>\n",
       "      <td>0.046780</td>\n",
       "      <td>1.000000</td>\n",
       "      <td>0.090264</td>\n",
       "    </tr>\n",
       "    <tr>\n",
       "      <th>year</th>\n",
       "      <td>0.988471</td>\n",
       "      <td>0.021951</td>\n",
       "      <td>-0.110949</td>\n",
       "      <td>0.090264</td>\n",
       "      <td>1.000000</td>\n",
       "    </tr>\n",
       "  </tbody>\n",
       "</table>\n",
       "</div>"
      ],
      "text/plain": [
       "                               id       age  signs_of_mental_illness  \\\n",
       "id                       1.000000  0.022602                -0.114457   \n",
       "age                      0.022602  1.000000                 0.095124   \n",
       "signs_of_mental_illness -0.114457  0.095124                 1.000000   \n",
       "body_camera              0.089557 -0.050337                 0.046780   \n",
       "year                     0.988471  0.021951                -0.110949   \n",
       "\n",
       "                         body_camera      year  \n",
       "id                          0.089557  0.988471  \n",
       "age                        -0.050337  0.021951  \n",
       "signs_of_mental_illness     0.046780 -0.110949  \n",
       "body_camera                 1.000000  0.090264  \n",
       "year                        0.090264  1.000000  "
      ]
     },
     "execution_count": 26,
     "metadata": {},
     "output_type": "execute_result"
    }
   ],
   "source": [
    "df.corr()"
   ]
  },
  {
   "cell_type": "code",
   "execution_count": 27,
   "id": "8de12128",
   "metadata": {},
   "outputs": [
    {
     "data": {
      "text/html": [
       "<div>\n",
       "<style scoped>\n",
       "    .dataframe tbody tr th:only-of-type {\n",
       "        vertical-align: middle;\n",
       "    }\n",
       "\n",
       "    .dataframe tbody tr th {\n",
       "        vertical-align: top;\n",
       "    }\n",
       "\n",
       "    .dataframe thead th {\n",
       "        text-align: right;\n",
       "    }\n",
       "</style>\n",
       "<table border=\"1\" class=\"dataframe\">\n",
       "  <thead>\n",
       "    <tr style=\"text-align: right;\">\n",
       "      <th></th>\n",
       "      <th>id</th>\n",
       "      <th>age</th>\n",
       "      <th>year</th>\n",
       "    </tr>\n",
       "  </thead>\n",
       "  <tbody>\n",
       "    <tr>\n",
       "      <th>count</th>\n",
       "      <td>7704.000000</td>\n",
       "      <td>7704.000000</td>\n",
       "      <td>7704.000000</td>\n",
       "    </tr>\n",
       "    <tr>\n",
       "      <th>mean</th>\n",
       "      <td>4254.819185</td>\n",
       "      <td>37.161085</td>\n",
       "      <td>2018.407840</td>\n",
       "    </tr>\n",
       "    <tr>\n",
       "      <th>std</th>\n",
       "      <td>2405.766317</td>\n",
       "      <td>12.554558</td>\n",
       "      <td>2.230475</td>\n",
       "    </tr>\n",
       "    <tr>\n",
       "      <th>min</th>\n",
       "      <td>3.000000</td>\n",
       "      <td>2.000000</td>\n",
       "      <td>2015.000000</td>\n",
       "    </tr>\n",
       "    <tr>\n",
       "      <th>25%</th>\n",
       "      <td>2160.750000</td>\n",
       "      <td>28.000000</td>\n",
       "      <td>2016.000000</td>\n",
       "    </tr>\n",
       "    <tr>\n",
       "      <th>50%</th>\n",
       "      <td>4280.000000</td>\n",
       "      <td>36.000000</td>\n",
       "      <td>2018.000000</td>\n",
       "    </tr>\n",
       "    <tr>\n",
       "      <th>75%</th>\n",
       "      <td>6339.250000</td>\n",
       "      <td>45.000000</td>\n",
       "      <td>2020.000000</td>\n",
       "    </tr>\n",
       "    <tr>\n",
       "      <th>max</th>\n",
       "      <td>8381.000000</td>\n",
       "      <td>92.000000</td>\n",
       "      <td>2022.000000</td>\n",
       "    </tr>\n",
       "  </tbody>\n",
       "</table>\n",
       "</div>"
      ],
      "text/plain": [
       "                id          age         year\n",
       "count  7704.000000  7704.000000  7704.000000\n",
       "mean   4254.819185    37.161085  2018.407840\n",
       "std    2405.766317    12.554558     2.230475\n",
       "min       3.000000     2.000000  2015.000000\n",
       "25%    2160.750000    28.000000  2016.000000\n",
       "50%    4280.000000    36.000000  2018.000000\n",
       "75%    6339.250000    45.000000  2020.000000\n",
       "max    8381.000000    92.000000  2022.000000"
      ]
     },
     "execution_count": 27,
     "metadata": {},
     "output_type": "execute_result"
    }
   ],
   "source": [
    "df.describe()"
   ]
  },
  {
   "cell_type": "markdown",
   "id": "ca7f5d53",
   "metadata": {},
   "source": [
    "### iniziamo a esplorare i dati, vediamo dove e quando"
   ]
  },
  {
   "cell_type": "code",
   "execution_count": 28,
   "id": "8ffe1388",
   "metadata": {},
   "outputs": [
    {
     "data": {
      "image/png": "[encoded data removed]",
      "text/plain": [
       "<Figure size 1440x576 with 1 Axes>"
      ]
     },
     "metadata": {},
     "output_type": "display_data"
    }
   ],
   "source": [
    "sns.set_style(\"whitegrid\")\n",
    "plt.figure(figsize=(20, 8))\n",
    "sns.countplot(data=df, x='state', order = df['state'].value_counts().index, color='green')\n",
    "plt.xticks(rotation=90);"
   ]
  },
  {
   "cell_type": "code",
   "execution_count": 29,
   "id": "391f4a67",
   "metadata": {},
   "outputs": [
    {
     "data": {
      "text/plain": [
       "2299"
      ]
     },
     "execution_count": 29,
     "metadata": {},
     "output_type": "execute_result"
    }
   ],
   "source": [
    "df.state.value_counts().head(3).sum()"
   ]
  },
  {
   "cell_type": "code",
   "execution_count": 30,
   "id": "c6c3b83d",
   "metadata": {},
   "outputs": [
    {
     "data": {
      "text/plain": [
       "29.841640706126686"
      ]
     },
     "execution_count": 30,
     "metadata": {},
     "output_type": "execute_result"
    }
   ],
   "source": [
    "2299 * 100 / total_cases"
   ]
  },
  {
   "cell_type": "markdown",
   "id": "f5d6b066",
   "metadata": {},
   "source": [
    "#### vediamo che California, Texas e Florida insieme fanno il 30% dei casi, ma fanno anche il 27% della popolazione dell'intero paese(fonte wikipedia), quindi un dato abbastanza in media"
   ]
  },
  {
   "cell_type": "code",
   "execution_count": 31,
   "id": "63519ca8",
   "metadata": {},
   "outputs": [
    {
     "data": {
      "text/plain": [
       "350"
      ]
     },
     "execution_count": 31,
     "metadata": {},
     "output_type": "execute_result"
    }
   ],
   "source": [
    "df.state.value_counts()['AZ']"
   ]
  },
  {
   "cell_type": "code",
   "execution_count": 32,
   "id": "3073e3d2",
   "metadata": {},
   "outputs": [
    {
     "data": {
      "text/plain": [
       "4.543094496365525"
      ]
     },
     "execution_count": 32,
     "metadata": {},
     "output_type": "execute_result"
    }
   ],
   "source": [
    "350 * 100 / total_cases"
   ]
  },
  {
   "cell_type": "code",
   "execution_count": 33,
   "id": "ef448d0f",
   "metadata": {},
   "outputs": [
    {
     "data": {
      "text/html": [
       "<div>\n",
       "<style scoped>\n",
       "    .dataframe tbody tr th:only-of-type {\n",
       "        vertical-align: middle;\n",
       "    }\n",
       "\n",
       "    .dataframe tbody tr th {\n",
       "        vertical-align: top;\n",
       "    }\n",
       "\n",
       "    .dataframe thead th {\n",
       "        text-align: right;\n",
       "    }\n",
       "</style>\n",
       "<table border=\"1\" class=\"dataframe\">\n",
       "  <thead>\n",
       "    <tr style=\"text-align: right;\">\n",
       "      <th></th>\n",
       "      <th>Posizione</th>\n",
       "      <th>Stato</th>\n",
       "      <th>Popolazione (1-4-2020)</th>\n",
       "      <th>% sulla popolazione totale</th>\n",
       "    </tr>\n",
       "  </thead>\n",
       "  <tbody>\n",
       "    <tr>\n",
       "      <th>13</th>\n",
       "      <td>14</td>\n",
       "      <td>Arizona</td>\n",
       "      <td>7 151 502</td>\n",
       "      <td>2,13%</td>\n",
       "    </tr>\n",
       "  </tbody>\n",
       "</table>\n",
       "</div>"
      ],
      "text/plain": [
       "    Posizione    Stato Popolazione (1-4-2020) % sulla popolazione totale\n",
       "13         14  Arizona              7 151 502                      2,13%"
      ]
     },
     "execution_count": 33,
     "metadata": {},
     "output_type": "execute_result"
    }
   ],
   "source": [
    "df_population.loc[df_population['Stato'] == 'Arizona']"
   ]
  },
  {
   "cell_type": "markdown",
   "id": "813e6da6",
   "metadata": {},
   "source": [
    "#### Molto male per esempio l'Arizona che fa il 4.5% dei casi ma ha solo il 2.13% della popolazione"
   ]
  },
  {
   "cell_type": "code",
   "execution_count": 34,
   "id": "54229c71",
   "metadata": {},
   "outputs": [
    {
     "data": {
      "text/plain": [
       "1113"
      ]
     },
     "execution_count": 34,
     "metadata": {},
     "output_type": "execute_result"
    }
   ],
   "source": [
    "df.state.value_counts()['CA']"
   ]
  },
  {
   "cell_type": "code",
   "execution_count": 35,
   "id": "8ff619d2",
   "metadata": {},
   "outputs": [
    {
     "data": {
      "text/plain": [
       "14.447040498442368"
      ]
     },
     "execution_count": 35,
     "metadata": {},
     "output_type": "execute_result"
    }
   ],
   "source": [
    "1113 * 100 / total_cases"
   ]
  },
  {
   "cell_type": "code",
   "execution_count": 36,
   "id": "264c1b1e",
   "metadata": {},
   "outputs": [
    {
     "data": {
      "text/html": [
       "<div>\n",
       "<style scoped>\n",
       "    .dataframe tbody tr th:only-of-type {\n",
       "        vertical-align: middle;\n",
       "    }\n",
       "\n",
       "    .dataframe tbody tr th {\n",
       "        vertical-align: top;\n",
       "    }\n",
       "\n",
       "    .dataframe thead th {\n",
       "        text-align: right;\n",
       "    }\n",
       "</style>\n",
       "<table border=\"1\" class=\"dataframe\">\n",
       "  <thead>\n",
       "    <tr style=\"text-align: right;\">\n",
       "      <th></th>\n",
       "      <th>Posizione</th>\n",
       "      <th>Stato</th>\n",
       "      <th>Popolazione (1-4-2020)</th>\n",
       "      <th>% sulla popolazione totale</th>\n",
       "    </tr>\n",
       "  </thead>\n",
       "  <tbody>\n",
       "    <tr>\n",
       "      <th>0</th>\n",
       "      <td>1</td>\n",
       "      <td>California</td>\n",
       "      <td>39 538 223</td>\n",
       "      <td>11,80%</td>\n",
       "    </tr>\n",
       "  </tbody>\n",
       "</table>\n",
       "</div>"
      ],
      "text/plain": [
       "   Posizione       Stato Popolazione (1-4-2020) % sulla popolazione totale\n",
       "0          1  California             39 538 223                     11,80%"
      ]
     },
     "execution_count": 36,
     "metadata": {},
     "output_type": "execute_result"
    }
   ],
   "source": [
    "df_population.loc[df_population['Stato'] == 'California']"
   ]
  },
  {
   "cell_type": "markdown",
   "id": "d2c10de7",
   "metadata": {},
   "source": [
    "#### La California alza la media con il 14.44% dei casi sull'11.8% della popolazione"
   ]
  },
  {
   "cell_type": "code",
   "execution_count": 37,
   "id": "f910ca70",
   "metadata": {},
   "outputs": [
    {
     "data": {
      "text/plain": [
       "2021    1054\n",
       "2020    1020\n",
       "2019     999\n",
       "2015     994\n",
       "2018     993\n",
       "2017     981\n",
       "2016     958\n",
       "2022     705\n",
       "Name: year, dtype: int64"
      ]
     },
     "execution_count": 37,
     "metadata": {},
     "output_type": "execute_result"
    }
   ],
   "source": [
    "df.year.value_counts()"
   ]
  },
  {
   "cell_type": "code",
   "execution_count": 38,
   "id": "55f51e14",
   "metadata": {},
   "outputs": [
    {
     "data": {
      "text/plain": [
       "<AxesSubplot:xlabel='year', ylabel='count'>"
      ]
     },
     "execution_count": 38,
     "metadata": {},
     "output_type": "execute_result"
    },
    {
     "data": {
      "image/png": "[encoded data removed]",
      "text/plain": [
       "<Figure size 1440x576 with 1 Axes>"
      ]
     },
     "metadata": {},
     "output_type": "display_data"
    }
   ],
   "source": [
    "sns.set_style(\"whitegrid\")\n",
    "plt.figure(figsize=(20, 8))\n",
    "sns.countplot(data=df, x='year', color='green')"
   ]
  },
  {
   "cell_type": "markdown",
   "id": "d36e7d92",
   "metadata": {},
   "source": [
    "#### dal 2015 al 2021 non ci sono outliers, però vediamo come nel 2020 e 2021 abbiamo superato i mille casi. Sembra esserci un progressivo aumento della violenza"
   ]
  },
  {
   "cell_type": "markdown",
   "id": "64655b78",
   "metadata": {},
   "source": [
    "### cerchiamo adesso di capire forse la cosa piu importante, chi sono le vittime"
   ]
  },
  {
   "cell_type": "code",
   "execution_count": 39,
   "id": "4bd81334",
   "metadata": {},
   "outputs": [
    {
     "data": {
      "text/plain": [
       "<AxesSubplot:xlabel='gender', ylabel='count'>"
      ]
     },
     "execution_count": 39,
     "metadata": {},
     "output_type": "execute_result"
    },
    {
     "data": {
      "image/png": "[encoded data removed]",
      "text/plain": [
       "<Figure size 432x360 with 1 Axes>"
      ]
     },
     "metadata": {},
     "output_type": "display_data"
    }
   ],
   "source": [
    "sns.set_style(\"whitegrid\")\n",
    "plt.figure(figsize=(6, 5))\n",
    "sns.countplot(data=df, x='gender', color='green')"
   ]
  },
  {
   "cell_type": "markdown",
   "id": "180ef713",
   "metadata": {},
   "source": [
    "#### nessun dubbio sul genere"
   ]
  },
  {
   "cell_type": "code",
   "execution_count": 40,
   "id": "1be8e8f6",
   "metadata": {},
   "outputs": [
    {
     "data": {
      "text/plain": [
       "<AxesSubplot:xlabel='race', ylabel='count'>"
      ]
     },
     "execution_count": 40,
     "metadata": {},
     "output_type": "execute_result"
    },
    {
     "data": {
      "image/png": "[encoded data removed]",
      "text/plain": [
       "<Figure size 1080x576 with 1 Axes>"
      ]
     },
     "metadata": {},
     "output_type": "display_data"
    }
   ],
   "source": [
    "sns.set_style(\"whitegrid\")\n",
    "plt.figure(figsize=(15, 8))\n",
    "sns.countplot(data=df, x='race', color='green', order = df['race'].value_counts().index)"
   ]
  },
  {
   "cell_type": "code",
   "execution_count": 41,
   "id": "4589ce13",
   "metadata": {},
   "outputs": [
    {
     "data": {
      "text/plain": [
       "White       3189\n",
       "Black       1681\n",
       "unknown     1451\n",
       "Hispanic    1127\n",
       "Asian        112\n",
       "Native        97\n",
       "Other         47\n",
       "Name: race, dtype: int64"
      ]
     },
     "execution_count": 41,
     "metadata": {},
     "output_type": "execute_result"
    }
   ],
   "source": [
    "df.race.value_counts()"
   ]
  },
  {
   "cell_type": "code",
   "execution_count": 42,
   "id": "8e809035",
   "metadata": {},
   "outputs": [
    {
     "data": {
      "text/plain": [
       "41.39408099688473"
      ]
     },
     "execution_count": 42,
     "metadata": {},
     "output_type": "execute_result"
    }
   ],
   "source": [
    "3189 * 100 / total_cases"
   ]
  },
  {
   "cell_type": "code",
   "execution_count": 43,
   "id": "42d2f38b",
   "metadata": {},
   "outputs": [
    {
     "data": {
      "text/plain": [
       "21.819833852544132"
      ]
     },
     "execution_count": 43,
     "metadata": {},
     "output_type": "execute_result"
    }
   ],
   "source": [
    "1681 * 100 / total_cases"
   ]
  },
  {
   "cell_type": "code",
   "execution_count": 44,
   "id": "a6fdbce5",
   "metadata": {},
   "outputs": [
    {
     "data": {
      "text/plain": [
       "14.62876427829699"
      ]
     },
     "execution_count": 44,
     "metadata": {},
     "output_type": "execute_result"
    }
   ],
   "source": [
    "1127 * 100 / total_cases"
   ]
  },
  {
   "cell_type": "code",
   "execution_count": 45,
   "id": "4f1ff937",
   "metadata": {},
   "outputs": [
    {
     "data": {
      "text/plain": [
       "1.453790238836968"
      ]
     },
     "execution_count": 45,
     "metadata": {},
     "output_type": "execute_result"
    }
   ],
   "source": [
    "112 * 100 / total_cases"
   ]
  },
  {
   "cell_type": "markdown",
   "id": "dac6353d",
   "metadata": {},
   "source": [
    "#### I bianchi sono il 60% della popolazione e rappresentano il 41% dei casi.\n",
    "#### I neri sono il 13.6% della popolazione e rappresentano il 21% dei casi.\n",
    "#### Meglio gli asiatici (6% della popolazione) con l'1.45% dei casi.\n",
    "#### I latini sono invece il 18% della popolazione con il 14% dei casi.\n",
    "#### fonte: https://www.census.gov/quickfacts/fact/table/US/PST045221"
   ]
  },
  {
   "cell_type": "markdown",
   "id": "67a1f818",
   "metadata": {},
   "source": [
    "### Cerchiamo di capire come avvengono gli omicidi"
   ]
  },
  {
   "cell_type": "code",
   "execution_count": 46,
   "id": "725db71e",
   "metadata": {},
   "outputs": [
    {
     "data": {
      "text/plain": [
       "<AxesSubplot:xlabel='manner_of_death', ylabel='count'>"
      ]
     },
     "execution_count": 46,
     "metadata": {},
     "output_type": "execute_result"
    },
    {
     "data": {
      "image/png": "[encoded data removed]",
      "text/plain": [
       "<Figure size 288x360 with 1 Axes>"
      ]
     },
     "metadata": {},
     "output_type": "display_data"
    }
   ],
   "source": [
    "sns.set_style(\"whitegrid\")\n",
    "plt.figure(figsize=(4, 5))\n",
    "sns.countplot(data=df, x='manner_of_death', color='green', order = df['manner_of_death'].value_counts().index)"
   ]
  },
  {
   "cell_type": "code",
   "execution_count": 47,
   "id": "e088a24b",
   "metadata": {},
   "outputs": [
    {
     "data": {
      "text/plain": [
       "<AxesSubplot:xlabel='signs_of_mental_illness', ylabel='count'>"
      ]
     },
     "execution_count": 47,
     "metadata": {},
     "output_type": "execute_result"
    },
    {
     "data": {
      "image/png": "[encoded data removed]",
      "text/plain": [
       "<Figure size 288x360 with 1 Axes>"
      ]
     },
     "metadata": {},
     "output_type": "display_data"
    }
   ],
   "source": [
    "sns.set_style(\"whitegrid\")\n",
    "plt.figure(figsize=(4, 5))\n",
    "sns.countplot(data=df, x='signs_of_mental_illness', color='green', order = df['signs_of_mental_illness'].value_counts().index)"
   ]
  },
  {
   "cell_type": "code",
   "execution_count": 48,
   "id": "feb91732",
   "metadata": {},
   "outputs": [
    {
     "data": {
      "text/plain": [
       "attack          4864\n",
       "other           2540\n",
       "undetermined     300\n",
       "Name: threat_level, dtype: int64"
      ]
     },
     "execution_count": 48,
     "metadata": {},
     "output_type": "execute_result"
    }
   ],
   "source": [
    "df.threat_level.value_counts()"
   ]
  },
  {
   "cell_type": "markdown",
   "id": "4e72bf0f",
   "metadata": {},
   "source": [
    "#### dato interessante questo sul livello di minaccia"
   ]
  },
  {
   "cell_type": "code",
   "execution_count": 49,
   "id": "b51d933d",
   "metadata": {},
   "outputs": [
    {
     "data": {
      "text/plain": [
       "<AxesSubplot:xlabel='threat_level', ylabel='count'>"
      ]
     },
     "execution_count": 49,
     "metadata": {},
     "output_type": "execute_result"
    },
    {
     "data": {
      "image/png": "[encoded data removed]",
      "text/plain": [
       "<Figure size 288x360 with 1 Axes>"
      ]
     },
     "metadata": {},
     "output_type": "display_data"
    }
   ],
   "source": [
    "sns.set_style(\"whitegrid\")\n",
    "plt.figure(figsize=(4, 5))\n",
    "sns.countplot(data=df, x='threat_level', color='green', order = df['threat_level'].value_counts().index)"
   ]
  },
  {
   "cell_type": "code",
   "execution_count": 50,
   "id": "722a4ce1",
   "metadata": {},
   "outputs": [
    {
     "data": {
      "text/plain": [
       "<AxesSubplot:xlabel='flee', ylabel='count'>"
      ]
     },
     "execution_count": 50,
     "metadata": {},
     "output_type": "execute_result"
    },
    {
     "data": {
      "image/png": "[encoded data removed]",
      "text/plain": [
       "<Figure size 288x360 with 1 Axes>"
      ]
     },
     "metadata": {},
     "output_type": "display_data"
    }
   ],
   "source": [
    "sns.set_style(\"whitegrid\")\n",
    "plt.figure(figsize=(4, 5))\n",
    "sns.countplot(data=df, x='flee', color='green', order = df['flee'].value_counts().index)"
   ]
  },
  {
   "cell_type": "code",
   "execution_count": 51,
   "id": "f0bf120a",
   "metadata": {},
   "outputs": [],
   "source": [
    "mask_child = df['age'] < 12"
   ]
  },
  {
   "cell_type": "code",
   "execution_count": 52,
   "id": "80aec71b",
   "metadata": {},
   "outputs": [
    {
     "data": {
      "text/html": [
       "<div>\n",
       "<style scoped>\n",
       "    .dataframe tbody tr th:only-of-type {\n",
       "        vertical-align: middle;\n",
       "    }\n",
       "\n",
       "    .dataframe tbody tr th {\n",
       "        vertical-align: top;\n",
       "    }\n",
       "\n",
       "    .dataframe thead th {\n",
       "        text-align: right;\n",
       "    }\n",
       "</style>\n",
       "<table border=\"1\" class=\"dataframe\">\n",
       "  <thead>\n",
       "    <tr style=\"text-align: right;\">\n",
       "      <th></th>\n",
       "      <th>id</th>\n",
       "      <th>name</th>\n",
       "      <th>date</th>\n",
       "      <th>manner_of_death</th>\n",
       "      <th>armed</th>\n",
       "      <th>age</th>\n",
       "      <th>gender</th>\n",
       "      <th>race</th>\n",
       "      <th>city</th>\n",
       "      <th>state</th>\n",
       "      <th>signs_of_mental_illness</th>\n",
       "      <th>threat_level</th>\n",
       "      <th>flee</th>\n",
       "      <th>body_camera</th>\n",
       "      <th>year</th>\n",
       "    </tr>\n",
       "  </thead>\n",
       "  <tbody>\n",
       "    <tr>\n",
       "      <th>833</th>\n",
       "      <td>980</td>\n",
       "      <td>Jeremy Mardis</td>\n",
       "      <td>2015-11-03</td>\n",
       "      <td>shot</td>\n",
       "      <td>unarmed</td>\n",
       "      <td>6.0</td>\n",
       "      <td>M</td>\n",
       "      <td>White</td>\n",
       "      <td>Marksville</td>\n",
       "      <td>LA</td>\n",
       "      <td>False</td>\n",
       "      <td>other</td>\n",
       "      <td>Car</td>\n",
       "      <td>True</td>\n",
       "      <td>2015</td>\n",
       "    </tr>\n",
       "    <tr>\n",
       "      <th>2899</th>\n",
       "      <td>3229</td>\n",
       "      <td>Kameron Prescott</td>\n",
       "      <td>2017-12-21</td>\n",
       "      <td>shot</td>\n",
       "      <td>unarmed</td>\n",
       "      <td>6.0</td>\n",
       "      <td>M</td>\n",
       "      <td>White</td>\n",
       "      <td>Schertz</td>\n",
       "      <td>TX</td>\n",
       "      <td>False</td>\n",
       "      <td>other</td>\n",
       "      <td>Not fleeing</td>\n",
       "      <td>False</td>\n",
       "      <td>2017</td>\n",
       "    </tr>\n",
       "    <tr>\n",
       "      <th>6644</th>\n",
       "      <td>7322</td>\n",
       "      <td>Fanta Bility</td>\n",
       "      <td>2021-08-27</td>\n",
       "      <td>shot</td>\n",
       "      <td>unarmed</td>\n",
       "      <td>8.0</td>\n",
       "      <td>F</td>\n",
       "      <td>unknown</td>\n",
       "      <td>Sharon Hill</td>\n",
       "      <td>PA</td>\n",
       "      <td>False</td>\n",
       "      <td>other</td>\n",
       "      <td>Not fleeing</td>\n",
       "      <td>False</td>\n",
       "      <td>2021</td>\n",
       "    </tr>\n",
       "    <tr>\n",
       "      <th>7240</th>\n",
       "      <td>7981</td>\n",
       "      <td>Clesslynn Jane Crawford</td>\n",
       "      <td>2022-03-26</td>\n",
       "      <td>shot</td>\n",
       "      <td>unarmed</td>\n",
       "      <td>2.0</td>\n",
       "      <td>F</td>\n",
       "      <td>unknown</td>\n",
       "      <td>Baxter Springs</td>\n",
       "      <td>KS</td>\n",
       "      <td>False</td>\n",
       "      <td>other</td>\n",
       "      <td>unknown</td>\n",
       "      <td>False</td>\n",
       "      <td>2022</td>\n",
       "    </tr>\n",
       "  </tbody>\n",
       "</table>\n",
       "</div>"
      ],
      "text/plain": [
       "        id                     name       date manner_of_death    armed  age  \\\n",
       "833    980            Jeremy Mardis 2015-11-03            shot  unarmed  6.0   \n",
       "2899  3229         Kameron Prescott 2017-12-21            shot  unarmed  6.0   \n",
       "6644  7322             Fanta Bility 2021-08-27            shot  unarmed  8.0   \n",
       "7240  7981  Clesslynn Jane Crawford 2022-03-26            shot  unarmed  2.0   \n",
       "\n",
       "     gender     race            city state  signs_of_mental_illness  \\\n",
       "833       M    White      Marksville    LA                    False   \n",
       "2899      M    White         Schertz    TX                    False   \n",
       "6644      F  unknown     Sharon Hill    PA                    False   \n",
       "7240      F  unknown  Baxter Springs    KS                    False   \n",
       "\n",
       "     threat_level         flee  body_camera  year  \n",
       "833         other          Car         True  2015  \n",
       "2899        other  Not fleeing        False  2017  \n",
       "6644        other  Not fleeing        False  2021  \n",
       "7240        other      unknown        False  2022  "
      ]
     },
     "execution_count": 52,
     "metadata": {},
     "output_type": "execute_result"
    }
   ],
   "source": [
    "df[mask_child]"
   ]
  },
  {
   "cell_type": "markdown",
   "id": "356ac633",
   "metadata": {},
   "source": [
    "#### senza parole"
   ]
  },
  {
   "cell_type": "markdown",
   "id": "a42591a9",
   "metadata": {},
   "source": [
    "### Cerchiamo di capire il perchè. C'è una differenza nel modo di fare della polizia in base alla razza?"
   ]
  },
  {
   "cell_type": "code",
   "execution_count": 53,
   "id": "69a7d52b",
   "metadata": {},
   "outputs": [
    {
     "data": {
      "text/plain": [
       "<AxesSubplot:xlabel='threat_level', ylabel='count'>"
      ]
     },
     "execution_count": 53,
     "metadata": {},
     "output_type": "execute_result"
    },
    {
     "data": {
      "image/png": "[encoded data removed]",
      "text/plain": [
       "<Figure size 720x360 with 1 Axes>"
      ]
     },
     "metadata": {},
     "output_type": "display_data"
    }
   ],
   "source": [
    "sns.set_style(\"whitegrid\")\n",
    "plt.figure(figsize=(10, 5))\n",
    "sns.countplot(data=df, x='threat_level', hue='race', order = df['threat_level'].value_counts().index)"
   ]
  },
  {
   "cell_type": "code",
   "execution_count": 54,
   "id": "e78bc083",
   "metadata": {},
   "outputs": [],
   "source": [
    "mask_unarmed = df['armed'] == 'unarmed'"
   ]
  },
  {
   "cell_type": "code",
   "execution_count": 55,
   "id": "6326614a",
   "metadata": {},
   "outputs": [],
   "source": [
    "df_unarmed = df[mask_unarmed]"
   ]
  },
  {
   "cell_type": "code",
   "execution_count": 56,
   "id": "e21343ce",
   "metadata": {},
   "outputs": [
    {
     "data": {
      "text/html": [
       "<div>\n",
       "<style scoped>\n",
       "    .dataframe tbody tr th:only-of-type {\n",
       "        vertical-align: middle;\n",
       "    }\n",
       "\n",
       "    .dataframe tbody tr th {\n",
       "        vertical-align: top;\n",
       "    }\n",
       "\n",
       "    .dataframe thead th {\n",
       "        text-align: right;\n",
       "    }\n",
       "</style>\n",
       "<table border=\"1\" class=\"dataframe\">\n",
       "  <thead>\n",
       "    <tr style=\"text-align: right;\">\n",
       "      <th></th>\n",
       "      <th>id</th>\n",
       "      <th>name</th>\n",
       "      <th>date</th>\n",
       "      <th>manner_of_death</th>\n",
       "      <th>armed</th>\n",
       "      <th>age</th>\n",
       "      <th>gender</th>\n",
       "      <th>race</th>\n",
       "      <th>city</th>\n",
       "      <th>state</th>\n",
       "      <th>signs_of_mental_illness</th>\n",
       "      <th>threat_level</th>\n",
       "      <th>flee</th>\n",
       "      <th>body_camera</th>\n",
       "      <th>year</th>\n",
       "    </tr>\n",
       "  </thead>\n",
       "  <tbody>\n",
       "    <tr>\n",
       "      <th>2</th>\n",
       "      <td>5</td>\n",
       "      <td>John Paul Quintero</td>\n",
       "      <td>2015-01-03</td>\n",
       "      <td>shot and Tasered</td>\n",
       "      <td>unarmed</td>\n",
       "      <td>23.0</td>\n",
       "      <td>M</td>\n",
       "      <td>Hispanic</td>\n",
       "      <td>Wichita</td>\n",
       "      <td>KS</td>\n",
       "      <td>False</td>\n",
       "      <td>other</td>\n",
       "      <td>Not fleeing</td>\n",
       "      <td>False</td>\n",
       "      <td>2015</td>\n",
       "    </tr>\n",
       "    <tr>\n",
       "      <th>8</th>\n",
       "      <td>16</td>\n",
       "      <td>Autumn Steele</td>\n",
       "      <td>2015-01-06</td>\n",
       "      <td>shot</td>\n",
       "      <td>unarmed</td>\n",
       "      <td>34.0</td>\n",
       "      <td>F</td>\n",
       "      <td>White</td>\n",
       "      <td>Burlington</td>\n",
       "      <td>IA</td>\n",
       "      <td>False</td>\n",
       "      <td>other</td>\n",
       "      <td>Not fleeing</td>\n",
       "      <td>True</td>\n",
       "      <td>2015</td>\n",
       "    </tr>\n",
       "    <tr>\n",
       "      <th>17</th>\n",
       "      <td>36</td>\n",
       "      <td>Artago Damon Howard</td>\n",
       "      <td>2015-01-08</td>\n",
       "      <td>shot</td>\n",
       "      <td>unarmed</td>\n",
       "      <td>36.0</td>\n",
       "      <td>M</td>\n",
       "      <td>Black</td>\n",
       "      <td>Strong</td>\n",
       "      <td>AR</td>\n",
       "      <td>False</td>\n",
       "      <td>attack</td>\n",
       "      <td>Not fleeing</td>\n",
       "      <td>False</td>\n",
       "      <td>2015</td>\n",
       "    </tr>\n",
       "    <tr>\n",
       "      <th>62</th>\n",
       "      <td>352</td>\n",
       "      <td>Joshua Omar Garcia</td>\n",
       "      <td>2015-01-26</td>\n",
       "      <td>shot</td>\n",
       "      <td>unarmed</td>\n",
       "      <td>24.0</td>\n",
       "      <td>M</td>\n",
       "      <td>Hispanic</td>\n",
       "      <td>Tahoka</td>\n",
       "      <td>TX</td>\n",
       "      <td>False</td>\n",
       "      <td>other</td>\n",
       "      <td>Car</td>\n",
       "      <td>False</td>\n",
       "      <td>2015</td>\n",
       "    </tr>\n",
       "    <tr>\n",
       "      <th>72</th>\n",
       "      <td>342</td>\n",
       "      <td>Ralph Willis</td>\n",
       "      <td>2015-01-29</td>\n",
       "      <td>shot</td>\n",
       "      <td>unarmed</td>\n",
       "      <td>42.0</td>\n",
       "      <td>M</td>\n",
       "      <td>White</td>\n",
       "      <td>Stillwater</td>\n",
       "      <td>OK</td>\n",
       "      <td>False</td>\n",
       "      <td>other</td>\n",
       "      <td>Foot</td>\n",
       "      <td>False</td>\n",
       "      <td>2015</td>\n",
       "    </tr>\n",
       "    <tr>\n",
       "      <th>...</th>\n",
       "      <td>...</td>\n",
       "      <td>...</td>\n",
       "      <td>...</td>\n",
       "      <td>...</td>\n",
       "      <td>...</td>\n",
       "      <td>...</td>\n",
       "      <td>...</td>\n",
       "      <td>...</td>\n",
       "      <td>...</td>\n",
       "      <td>...</td>\n",
       "      <td>...</td>\n",
       "      <td>...</td>\n",
       "      <td>...</td>\n",
       "      <td>...</td>\n",
       "      <td>...</td>\n",
       "    </tr>\n",
       "    <tr>\n",
       "      <th>7506</th>\n",
       "      <td>8166</td>\n",
       "      <td>NaN</td>\n",
       "      <td>2022-06-21</td>\n",
       "      <td>shot</td>\n",
       "      <td>unarmed</td>\n",
       "      <td>37.0</td>\n",
       "      <td>M</td>\n",
       "      <td>unknown</td>\n",
       "      <td>Adelanto</td>\n",
       "      <td>CA</td>\n",
       "      <td>False</td>\n",
       "      <td>other</td>\n",
       "      <td>Foot</td>\n",
       "      <td>False</td>\n",
       "      <td>2022</td>\n",
       "    </tr>\n",
       "    <tr>\n",
       "      <th>7524</th>\n",
       "      <td>8185</td>\n",
       "      <td>Jayland Walker</td>\n",
       "      <td>2022-06-27</td>\n",
       "      <td>shot</td>\n",
       "      <td>unarmed</td>\n",
       "      <td>25.0</td>\n",
       "      <td>M</td>\n",
       "      <td>Black</td>\n",
       "      <td>Akron</td>\n",
       "      <td>OH</td>\n",
       "      <td>False</td>\n",
       "      <td>other</td>\n",
       "      <td>Other</td>\n",
       "      <td>True</td>\n",
       "      <td>2022</td>\n",
       "    </tr>\n",
       "    <tr>\n",
       "      <th>7557</th>\n",
       "      <td>8215</td>\n",
       "      <td>Shane Netterville</td>\n",
       "      <td>2022-07-08</td>\n",
       "      <td>shot</td>\n",
       "      <td>unarmed</td>\n",
       "      <td>28.0</td>\n",
       "      <td>M</td>\n",
       "      <td>Native</td>\n",
       "      <td>Fargo</td>\n",
       "      <td>ND</td>\n",
       "      <td>False</td>\n",
       "      <td>other</td>\n",
       "      <td>Foot</td>\n",
       "      <td>False</td>\n",
       "      <td>2022</td>\n",
       "    </tr>\n",
       "    <tr>\n",
       "      <th>7618</th>\n",
       "      <td>8287</td>\n",
       "      <td>Kyle Dail</td>\n",
       "      <td>2022-07-27</td>\n",
       "      <td>shot</td>\n",
       "      <td>unarmed</td>\n",
       "      <td>30.0</td>\n",
       "      <td>M</td>\n",
       "      <td>unknown</td>\n",
       "      <td>Dallas</td>\n",
       "      <td>TX</td>\n",
       "      <td>False</td>\n",
       "      <td>undetermined</td>\n",
       "      <td>Car</td>\n",
       "      <td>True</td>\n",
       "      <td>2022</td>\n",
       "    </tr>\n",
       "    <tr>\n",
       "      <th>7701</th>\n",
       "      <td>8369</td>\n",
       "      <td>Donovan Lewis</td>\n",
       "      <td>2022-08-30</td>\n",
       "      <td>shot</td>\n",
       "      <td>unarmed</td>\n",
       "      <td>20.0</td>\n",
       "      <td>M</td>\n",
       "      <td>Black</td>\n",
       "      <td>Columbus</td>\n",
       "      <td>OH</td>\n",
       "      <td>False</td>\n",
       "      <td>undetermined</td>\n",
       "      <td>Not fleeing</td>\n",
       "      <td>True</td>\n",
       "      <td>2022</td>\n",
       "    </tr>\n",
       "  </tbody>\n",
       "</table>\n",
       "<p>455 rows × 15 columns</p>\n",
       "</div>"
      ],
      "text/plain": [
       "        id                 name       date   manner_of_death    armed   age  \\\n",
       "2        5   John Paul Quintero 2015-01-03  shot and Tasered  unarmed  23.0   \n",
       "8       16        Autumn Steele 2015-01-06              shot  unarmed  34.0   \n",
       "17      36  Artago Damon Howard 2015-01-08              shot  unarmed  36.0   \n",
       "62     352   Joshua Omar Garcia 2015-01-26              shot  unarmed  24.0   \n",
       "72     342         Ralph Willis 2015-01-29              shot  unarmed  42.0   \n",
       "...    ...                  ...        ...               ...      ...   ...   \n",
       "7506  8166                  NaN 2022-06-21              shot  unarmed  37.0   \n",
       "7524  8185       Jayland Walker 2022-06-27              shot  unarmed  25.0   \n",
       "7557  8215    Shane Netterville 2022-07-08              shot  unarmed  28.0   \n",
       "7618  8287            Kyle Dail 2022-07-27              shot  unarmed  30.0   \n",
       "7701  8369        Donovan Lewis 2022-08-30              shot  unarmed  20.0   \n",
       "\n",
       "     gender      race        city state  signs_of_mental_illness  \\\n",
       "2         M  Hispanic     Wichita    KS                    False   \n",
       "8         F     White  Burlington    IA                    False   \n",
       "17        M     Black      Strong    AR                    False   \n",
       "62        M  Hispanic      Tahoka    TX                    False   \n",
       "72        M     White  Stillwater    OK                    False   \n",
       "...     ...       ...         ...   ...                      ...   \n",
       "7506      M   unknown    Adelanto    CA                    False   \n",
       "7524      M     Black       Akron    OH                    False   \n",
       "7557      M    Native       Fargo    ND                    False   \n",
       "7618      M   unknown      Dallas    TX                    False   \n",
       "7701      M     Black    Columbus    OH                    False   \n",
       "\n",
       "      threat_level         flee  body_camera  year  \n",
       "2            other  Not fleeing        False  2015  \n",
       "8            other  Not fleeing         True  2015  \n",
       "17          attack  Not fleeing        False  2015  \n",
       "62           other          Car        False  2015  \n",
       "72           other         Foot        False  2015  \n",
       "...            ...          ...          ...   ...  \n",
       "7506         other         Foot        False  2022  \n",
       "7524         other        Other         True  2022  \n",
       "7557         other         Foot        False  2022  \n",
       "7618  undetermined          Car         True  2022  \n",
       "7701  undetermined  Not fleeing         True  2022  \n",
       "\n",
       "[455 rows x 15 columns]"
      ]
     },
     "execution_count": 56,
     "metadata": {},
     "output_type": "execute_result"
    }
   ],
   "source": [
    "df_unarmed"
   ]
  },
  {
   "cell_type": "code",
   "execution_count": 57,
   "id": "c50fad3e",
   "metadata": {},
   "outputs": [
    {
     "data": {
      "text/plain": [
       "<AxesSubplot:xlabel='race', ylabel='count'>"
      ]
     },
     "execution_count": 57,
     "metadata": {},
     "output_type": "execute_result"
    },
    {
     "data": {
      "image/png": "[encoded data removed]",
      "text/plain": [
       "<Figure size 720x432 with 1 Axes>"
      ]
     },
     "metadata": {},
     "output_type": "display_data"
    }
   ],
   "source": [
    "sns.set_style(\"whitegrid\")\n",
    "plt.figure(figsize=(10, 6))\n",
    "sns.countplot(data=df_unarmed, x='race', color='green', order = df_unarmed['race'].value_counts().index)"
   ]
  },
  {
   "cell_type": "code",
   "execution_count": 58,
   "id": "5cd8b84d",
   "metadata": {},
   "outputs": [],
   "source": [
    "mask_armed = df['armed'] != 'unarmed'"
   ]
  },
  {
   "cell_type": "code",
   "execution_count": 59,
   "id": "d6985fd2",
   "metadata": {},
   "outputs": [],
   "source": [
    "df_armed = df[mask_armed]"
   ]
  },
  {
   "cell_type": "code",
   "execution_count": 60,
   "id": "49f61e04",
   "metadata": {},
   "outputs": [
    {
     "data": {
      "text/plain": [
       "<AxesSubplot:xlabel='race', ylabel='count'>"
      ]
     },
     "execution_count": 60,
     "metadata": {},
     "output_type": "execute_result"
    },
    {
     "data": {
      "image/png": "[encoded data removed]",
      "text/plain": [
       "<Figure size 720x432 with 1 Axes>"
      ]
     },
     "metadata": {},
     "output_type": "display_data"
    }
   ],
   "source": [
    "sns.set_style(\"whitegrid\")\n",
    "plt.figure(figsize=(10, 6))\n",
    "sns.countplot(data=df_armed, x='race', color='green', order = df_armed['race'].value_counts().index)"
   ]
  },
  {
   "cell_type": "markdown",
   "id": "6cf3c002",
   "metadata": {},
   "source": [
    "#### guardando questi ultimi due grafici, rimane innegabile che ci sia un bias"
   ]
  },
  {
   "cell_type": "code",
   "execution_count": 61,
   "id": "21cd6082",
   "metadata": {},
   "outputs": [],
   "source": [
    "#### vediamo se c'e qualche stato dove il bias e piu presente"
   ]
  },
  {
   "cell_type": "code",
   "execution_count": 62,
   "id": "268449c0",
   "metadata": {},
   "outputs": [
    {
     "data": {
      "image/png": "[encoded data removed]",
      "text/plain": [
       "<Figure size 2880x576 with 1 Axes>"
      ]
     },
     "metadata": {},
     "output_type": "display_data"
    }
   ],
   "source": [
    "sns.set_style(\"whitegrid\")\n",
    "plt.figure(figsize=(40, 8))\n",
    "sns.countplot(data=df, x='state', order = df['state'].value_counts().index, hue='race')\n",
    "plt.xticks(rotation=90);"
   ]
  },
  {
   "cell_type": "markdown",
   "id": "83e0c6cc",
   "metadata": {},
   "source": [
    "#### prediamo per esempio la Louisiana"
   ]
  },
  {
   "cell_type": "code",
   "execution_count": 63,
   "id": "75ff2a5a",
   "metadata": {},
   "outputs": [
    {
     "data": {
      "text/html": [
       "<div>\n",
       "<style scoped>\n",
       "    .dataframe tbody tr th:only-of-type {\n",
       "        vertical-align: middle;\n",
       "    }\n",
       "\n",
       "    .dataframe tbody tr th {\n",
       "        vertical-align: top;\n",
       "    }\n",
       "\n",
       "    .dataframe thead th {\n",
       "        text-align: right;\n",
       "    }\n",
       "</style>\n",
       "<table border=\"1\" class=\"dataframe\">\n",
       "  <thead>\n",
       "    <tr style=\"text-align: right;\">\n",
       "      <th></th>\n",
       "      <th>Posizione</th>\n",
       "      <th>Stato</th>\n",
       "      <th>Popolazione (1-4-2020)</th>\n",
       "      <th>% sulla popolazione totale</th>\n",
       "    </tr>\n",
       "  </thead>\n",
       "  <tbody>\n",
       "    <tr>\n",
       "      <th>24</th>\n",
       "      <td>25</td>\n",
       "      <td>Louisiana</td>\n",
       "      <td>4 657 757</td>\n",
       "      <td>1,39%</td>\n",
       "    </tr>\n",
       "  </tbody>\n",
       "</table>\n",
       "</div>"
      ],
      "text/plain": [
       "    Posizione      Stato Popolazione (1-4-2020) % sulla popolazione totale\n",
       "24         25  Louisiana              4 657 757                      1,39%"
      ]
     },
     "execution_count": 63,
     "metadata": {},
     "output_type": "execute_result"
    }
   ],
   "source": [
    "df_population.loc[df_population['Stato'] == 'Louisiana']"
   ]
  },
  {
   "cell_type": "code",
   "execution_count": 64,
   "id": "15fcf4e1",
   "metadata": {},
   "outputs": [
    {
     "data": {
      "text/plain": [
       "155"
      ]
     },
     "execution_count": 64,
     "metadata": {},
     "output_type": "execute_result"
    }
   ],
   "source": [
    "df.state.value_counts()['LA']"
   ]
  },
  {
   "cell_type": "code",
   "execution_count": 65,
   "id": "16cd8a35",
   "metadata": {},
   "outputs": [
    {
     "data": {
      "text/plain": [
       "2.0119418483904465"
      ]
     },
     "execution_count": 65,
     "metadata": {},
     "output_type": "execute_result"
    }
   ],
   "source": [
    "155 * 100 / total_cases"
   ]
  },
  {
   "cell_type": "markdown",
   "id": "5ca3bccb",
   "metadata": {},
   "source": [
    "#### 1.39% della popolazione e 2% dei casi"
   ]
  },
  {
   "cell_type": "code",
   "execution_count": 66,
   "id": "725c4e87",
   "metadata": {},
   "outputs": [],
   "source": [
    "louisiana_mask = df['state'] == 'LA'"
   ]
  },
  {
   "cell_type": "code",
   "execution_count": 67,
   "id": "f4e44f74",
   "metadata": {},
   "outputs": [],
   "source": [
    "louisiana_df = df[louisiana_mask]"
   ]
  },
  {
   "cell_type": "code",
   "execution_count": 68,
   "id": "efcdd078",
   "metadata": {},
   "outputs": [
    {
     "data": {
      "text/plain": [
       "(155, 15)"
      ]
     },
     "execution_count": 68,
     "metadata": {},
     "output_type": "execute_result"
    }
   ],
   "source": [
    "louisiana_df.shape"
   ]
  },
  {
   "cell_type": "code",
   "execution_count": 69,
   "id": "70867295",
   "metadata": {},
   "outputs": [
    {
     "data": {
      "text/plain": [
       "<AxesSubplot:xlabel='race', ylabel='count'>"
      ]
     },
     "execution_count": 69,
     "metadata": {},
     "output_type": "execute_result"
    },
    {
     "data": {
      "image/png": "[encoded data removed]",
      "text/plain": [
       "<Figure size 576x360 with 1 Axes>"
      ]
     },
     "metadata": {},
     "output_type": "display_data"
    }
   ],
   "source": [
    "sns.set_style(\"whitegrid\")\n",
    "plt.figure(figsize=(8, 5))\n",
    "sns.countplot(data=louisiana_df, x='race', color='green', order = louisiana_df['race'].value_counts().index)"
   ]
  },
  {
   "cell_type": "markdown",
   "id": "ed48a3e6",
   "metadata": {},
   "source": [
    "#### I neri in Louisiana son il 12.4% della popolazione, fonte: https://www.census.gov/library/stories/state-by-state/louisiana-population-change-between-census-decade.html"
   ]
  },
  {
   "cell_type": "code",
   "execution_count": 70,
   "id": "a9264754",
   "metadata": {},
   "outputs": [],
   "source": [
    "df_louis_unarmed = df[louisiana_mask & mask_unarmed]"
   ]
  },
  {
   "cell_type": "code",
   "execution_count": 71,
   "id": "49e7f358",
   "metadata": {},
   "outputs": [
    {
     "data": {
      "text/plain": [
       "<AxesSubplot:xlabel='race', ylabel='count'>"
      ]
     },
     "execution_count": 71,
     "metadata": {},
     "output_type": "execute_result"
    },
    {
     "data": {
      "image/png": "[encoded data removed]",
      "text/plain": [
       "<Figure size 360x360 with 1 Axes>"
      ]
     },
     "metadata": {},
     "output_type": "display_data"
    }
   ],
   "source": [
    "sns.set_style(\"whitegrid\")\n",
    "plt.figure(figsize=(5, 5))\n",
    "sns.countplot(data=df_louis_unarmed, x='race', color='green', order = df_louis_unarmed['race'].value_counts().index)"
   ]
  },
  {
   "cell_type": "markdown",
   "id": "563c95bd",
   "metadata": {},
   "source": [
    "#### Anche qui si ripete il bias, i neri hanno più possibilità di essere uccisi anche se disarmati"
   ]
  },
  {
   "cell_type": "markdown",
   "id": "db066957",
   "metadata": {},
   "source": [
    "#### Ho cercato di rispondere a molte domande, dove avvengono gli omicidi, quando, qual è il sesso delle vittime, la loro razza, in che maniera vengono uccisi, e il perché, le varie situazioni. Infine ho cercato di dare una risposta alla fatidica domanda \"la polizia è razzista?\" Anche se quest'ultima meriterebbe un altro tipo di analisi sulla società americana."
   ]
  }
 ],
 "metadata": {
  "kernelspec": {
   "display_name": "Python 3 (ipykernel)",
   "language": "python",
   "name": "python3"
  },
  "language_info": {
   "codemirror_mode": {
    "name": "ipython",
    "version": 3
   },
   "file_extension": ".py",
   "mimetype": "text/x-python",
   "name": "python",
   "nbconvert_exporter": "python",
   "pygments_lexer": "ipython3",
   "version": "3.9.12"
  },
  "toc": {
   "base_numbering": 1,
   "nav_menu": {},
   "number_sections": true,
   "sideBar": true,
   "skip_h1_title": false,
   "title_cell": "Table of Contents",
   "title_sidebar": "Contents",
   "toc_cell": true,
   "toc_position": {},
   "toc_section_display": true,
   "toc_window_display": true
  }
 },
 "nbformat": 4,
 "nbformat_minor": 5
}
